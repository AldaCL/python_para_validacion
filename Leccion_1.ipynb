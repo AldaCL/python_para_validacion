{
  "nbformat": 4,
  "nbformat_minor": 0,
  "metadata": {
    "colab": {
      "name": "Untitled2.ipynb",
      "provenance": [],
      "authorship_tag": "ABX9TyOe/GrAqxAykwJM8cgrOVf2",
      "include_colab_link": true
    },
    "kernelspec": {
      "name": "python3",
      "display_name": "Python 3"
    },
    "language_info": {
      "name": "python"
    }
  },
  "cells": [
    {
      "cell_type": "markdown",
      "metadata": {
        "id": "view-in-github",
        "colab_type": "text"
      },
      "source": [
        "<a href=\"https://colab.research.google.com/github/AldaCL/python_para_validacion/blob/main/Leccion_1.ipynb\" target=\"_parent\"><img src=\"https://colab.research.google.com/assets/colab-badge.svg\" alt=\"Open In Colab\"/></a>"
      ]
    },
    {
      "cell_type": "markdown",
      "metadata": {
        "id": "-T7wjDqCrqjU"
      },
      "source": [
        "<img src=\"https://drive.google.com/uc?id=1J2zKp4YKGFOcgZoqS_odU5FfeS9auFoy\"\n",
        "style=\"float:right;width:50px;height:50px;\"> \n",
        "\n",
        "# **Python para validación de datos**\n",
        "\n",
        "## Subdirección de validación\n",
        "\n",
        "---\n",
        "\n",
        "\n",
        "# 1. Introducción a Python: consideraciones importantes del lenguaje"
      ]
    },
    {
      "cell_type": "code",
      "metadata": {
        "id": "yd7LlKD_r5p8"
      },
      "source": [
        ""
      ],
      "execution_count": null,
      "outputs": []
    }
  ]
}