{
  "nbformat": 4,
  "nbformat_minor": 0,
  "metadata": {
    "colab": {
      "name": "Leccion_1.ipynb",
      "provenance": [],
      "authorship_tag": "ABX9TyOXXGAblkS5YgnwOuaAhmWV",
      "include_colab_link": true
    },
    "kernelspec": {
      "name": "python3",
      "display_name": "Python 3"
    },
    "language_info": {
      "name": "python"
    }
  },
  "cells": [
    {
      "cell_type": "markdown",
      "metadata": {
        "id": "view-in-github",
        "colab_type": "text"
      },
      "source": [
        "<a href=\"https://colab.research.google.com/github/AldaCL/python_para_validacion/blob/main/Leccion_1.ipynb\" target=\"_parent\"><img src=\"https://colab.research.google.com/assets/colab-badge.svg\" alt=\"Open In Colab\"/></a>"
      ]
    },
    {
      "cell_type": "markdown",
      "metadata": {
        "id": "-T7wjDqCrqjU"
      },
      "source": [
        "<img src=\"https://drive.google.com/uc?id=1J2zKp4YKGFOcgZoqS_odU5FfeS9auFoy\"\n",
        "style=\"float:right;width:50px;height:50px;\"> \n",
        "\n",
        "# **Python para validación de datos**\n",
        "\n",
        "## Subdirección de validación\n",
        "\n",
        "---\n",
        "\n",
        "\n",
        "# 1. Introducción a Python: consideraciones importantes del lenguaje"
      ]
    },
    {
      "cell_type": "markdown",
      "metadata": {
        "id": "EAtlimzBGlfg"
      },
      "source": [
        "## **Lo obvio:** \n",
        "Python es un lenguaje de programación multiparadigma, es decir permite escribir soluciones, utilizando diferentes enfoques: \n",
        "  - Imperativa : *Recetario*\n",
        "  - POO : *Taller mecánico*\n",
        "  - Funcional : *Matemáticas*\n",
        "\n",
        "Es un lenguaje **interpretado**, por lo que a diferencia de los lenguajes compilados, las instrucciones son **interpretadas**, o entendidas por el **interprete** durante la ejecución, razón por la cuál es \"veloz\". No genera ejecutables.\n",
        "\n",
        "Es de tipado dinámico y multiplataforma. \n",
        "\n"
      ]
    },
    {
      "cell_type": "markdown",
      "metadata": {
        "id": "q84jXBz1bh0O"
      },
      "source": [
        "## ¿Qué hay de nuevo (Python 3 vs Python 2) ?\n",
        "\n",
        "### 1- Print es una función \n",
        "**Antes**:  `print x `\n",
        "\n",
        "\n",
        "\n",
        "**Ahora**:  `print(x) `\n",
        "\n",
        "\n",
        "### 2- Cambio en las iteraciones dentro de diccionarios\n",
        "\n",
        "Los métodos `dict` `dict.keys()`, `dict.items()` y `dict.values()` retornan «vistas» en lugar de listas.\n",
        "Es decir, los resultados de estos métodos no son asignables a variables:\n",
        "\n",
        "`r = diccionario.keys()`\n",
        "\n",
        "`r.sort()` ❌\n",
        "\n",
        "\n",
        "`r  = sorted(diccionario) ` ✅\n",
        "\n",
        "\n",
        "### 3- No existe el tipo `long`\n",
        "\n",
        "### 4- **Cambio total en la codificación de texto vs datos**\n",
        "\n",
        "Python 3 utiliza tipo de dato \"text\" y \"datos\" en lugar de utilizar cadenas de caracteres de 8 bits, de esta forma **todo** el texto es Unicode. \n",
        "\n",
        "En Python 2 podiamos mezclar texto Unicode de 8 bits y carcateres ASCII (de 7 bits) sin darnos cuenta; sin embargo al decodificar, leer o codificar a bits existía el famoso `UnicodeDecodeError` que nos ponía tristes.\n",
        "\n",
        "En Python 3 ya no es posible mezclar texco codificado con texto sin codificar. Ahora todo el texto (sin codificar) es Unicode (Para el español está de maravilla), y se utiliza `str` para datos binarios o codificados.\n",
        "\n",
        "Como los tipos `str` y `bytes` no se pueden mezclar, siempre se deben convertir explícitamente entre ellos. Utilizar `str.encode(`) para pasar de `str` a `bytes`, y `bytes.decode()` para pasar de `bytes` a `str`."
      ]
    },
    {
      "cell_type": "markdown",
      "metadata": {
        "id": "h0ZXOnhXPzAD"
      },
      "source": [
        "# 2. ¿Qué es Jupyter Noteboooks y por qué lo usamos?"
      ]
    },
    {
      "cell_type": "markdown",
      "metadata": {
        "id": "sllkXq48QDdC"
      },
      "source": [
        "Parte del Proyecto Jupyter, que soporta diversos entornos de ejecición en varios lenguajes de programación. Su objetivo es apoyar y soportar la ciencia de datos interactiva. Es software de código abierto. \n",
        "\n",
        "Jupyter Notebook/ Google Collabs/ JupyterLab es un entorno gráfico interactivo basado en el navegador web, en el cúal se creal documentos, libretas o *Notebooks* en los cuales se puede ejecutar y almacenar código, además de integrar texto enriquecido Markdown, LaTeX y HTML. \n",
        "\n",
        "Las Notebooks son una implementación del paradigma de programación letrada ideado por Donald Knuth (Creador de Tex). Esto se logra mediante el uso de celdas (cells). Cada una de estas celdas puede ser de dos tipos: texto escrito con markdown o código (Python en este caso)\n",
        "\n",
        "Sobre todo, en nuestro caso, **ayuda en la reproducibilidad de nuestros e análisis**.\n"
      ]
    },
    {
      "cell_type": "markdown",
      "metadata": {
        "id": "8-H_R9nvRGRC"
      },
      "source": [
        "## **Pros:**\n",
        "\n",
        "- Ayuda a mostrar nuestro trabajo, documentar, explicar y enriquecer la parte técnica de la escritura de código\n",
        "- Facilitan la reproducibilidad y seguimiento de los programas\n",
        "- Curva de aprendizaje baja y menos impacto visual del código\n",
        "- En el caso de collabs, apto para colaboración remota\n"
      ]
    },
    {
      "cell_type": "markdown",
      "metadata": {
        "id": "3WZT77JKRMmp"
      },
      "source": [
        "## **Contras:**\n",
        "\n",
        "- Muy muy muy facilmente vamos a escribir código espaguetti\n",
        "- La depuración y visualización de errores es límitada contra un IDE o editor integrado\n",
        "- Por lo tanto díficil de depurar\n",
        "- Puede generar confusiones en la ejecución debido a \"regresos\" o \"re-ejecuciones de celdas anteriores\". \n"
      ]
    },
    {
      "cell_type": "markdown",
      "metadata": {
        "id": "BrAcgqTSRKRh"
      },
      "source": [
        ""
      ]
    },
    {
      "cell_type": "code",
      "metadata": {
        "id": "M854E_BmKYRM"
      },
      "source": [
        "def f(x) : return x+2"
      ],
      "execution_count": 25,
      "outputs": []
    },
    {
      "cell_type": "code",
      "metadata": {
        "id": "qlX_q3dNhFwJ"
      },
      "source": [
        "y = f(2)"
      ],
      "execution_count": 26,
      "outputs": []
    },
    {
      "cell_type": "code",
      "metadata": {
        "colab": {
          "base_uri": "https://localhost:8080/"
        },
        "id": "NFiMaUVKhHk4",
        "outputId": "01a6a5de-c3d1-448c-bcdd-30d7e117a47e"
      },
      "source": [
        "y == 4"
      ],
      "execution_count": 27,
      "outputs": [
        {
          "output_type": "execute_result",
          "data": {
            "text/plain": [
              "True"
            ]
          },
          "metadata": {
            "tags": []
          },
          "execution_count": 27
        }
      ]
    },
    {
      "cell_type": "code",
      "metadata": {
        "colab": {
          "base_uri": "https://localhost:8080/"
        },
        "id": "W3Rp-odlhM13",
        "outputId": "8027d107-1b25-4362-dbba-a132e3ebcb6b"
      },
      "source": [
        "print (y)"
      ],
      "execution_count": 28,
      "outputs": [
        {
          "output_type": "stream",
          "text": [
            "4\n"
          ],
          "name": "stdout"
        }
      ]
    },
    {
      "cell_type": "code",
      "metadata": {
        "id": "SGnufgSHhN39"
      },
      "source": [
        "x = 3"
      ],
      "execution_count": 24,
      "outputs": []
    },
    {
      "cell_type": "code",
      "metadata": {
        "id": "TRbF4XtChWuf"
      },
      "source": [
        ""
      ],
      "execution_count": null,
      "outputs": []
    }
  ]
}