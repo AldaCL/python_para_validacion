{
  "nbformat": 4,
  "nbformat_minor": 0,
  "metadata": {
    "colab": {
      "name": "Presentación Python para validación.ipynb",
      "provenance": [],
      "mount_file_id": "1gnd18CStvC_pdHG9y_EuwPblwj780ZYi",
      "authorship_tag": "ABX9TyMpbtY3LDgp1La2suiyM9nZ",
      "include_colab_link": true
    },
    "kernelspec": {
      "name": "python3",
      "display_name": "Python 3"
    },
    "language_info": {
      "name": "python"
    }
  },
  "cells": [
    {
      "cell_type": "markdown",
      "metadata": {
        "id": "view-in-github",
        "colab_type": "text"
      },
      "source": [
        "<a href=\"https://colab.research.google.com/github/AldaCL/python_para_validacion/blob/main/Presentaci%C3%B3n_Python_para_validaci%C3%B3n.ipynb\" target=\"_parent\"><img src=\"https://colab.research.google.com/assets/colab-badge.svg\" alt=\"Open In Colab\"/></a>"
      ]
    },
    {
      "cell_type": "markdown",
      "metadata": {
        "id": "AXfIavFj3fm8"
      },
      "source": [
        "<img src=\"https://drive.google.com/uc?id=1J2zKp4YKGFOcgZoqS_odU5FfeS9auFoy\"\n",
        "style=\"float:right;width:50px;height:50px;\"> \n",
        "\n",
        "# Python para validación de datos\n",
        "\n",
        "## Subdirección de validación\n",
        "\n",
        "Presentación de temario y objetivos en la actividad de transferencia de conocimientos de la subdirección de validación. "
      ]
    },
    {
      "cell_type": "code",
      "metadata": {
        "id": "0EvUmAOo4wRt"
      },
      "source": [
        ""
      ],
      "execution_count": null,
      "outputs": []
    }
  ]
}