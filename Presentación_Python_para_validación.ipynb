{
  "nbformat": 4,
  "nbformat_minor": 0,
  "metadata": {
    "colab": {
      "name": "Presentación Python para validación.ipynb",
      "provenance": [],
      "collapsed_sections": [],
      "mount_file_id": "1gnd18CStvC_pdHG9y_EuwPblwj780ZYi",
      "authorship_tag": "ABX9TyMT2c6EwzqmrfCxcSNbG/OK",
      "include_colab_link": true
    },
    "kernelspec": {
      "name": "python3",
      "display_name": "Python 3"
    },
    "language_info": {
      "name": "python"
    }
  },
  "cells": [
    {
      "cell_type": "markdown",
      "metadata": {
        "id": "view-in-github",
        "colab_type": "text"
      },
      "source": [
        "<a href=\"https://colab.research.google.com/github/AldaCL/python_para_validacion/blob/main/Presentaci%C3%B3n_Python_para_validaci%C3%B3n.ipynb\" target=\"_parent\"><img src=\"https://colab.research.google.com/assets/colab-badge.svg\" alt=\"Open In Colab\"/></a>"
      ]
    },
    {
      "cell_type": "markdown",
      "metadata": {
        "id": "AXfIavFj3fm8"
      },
      "source": [
        "<img src=\"https://drive.google.com/uc?id=1J2zKp4YKGFOcgZoqS_odU5FfeS9auFoy\"\n",
        "style=\"float:right;width:50px;height:50px;\"> \n",
        "\n",
        "# Python para validación de datos\n",
        "\n",
        "## Subdirección de validación\n",
        "\n",
        "Presentación de temario y objetivos en la actividad de transferencia de conocimientos de la subdirección de validación. "
      ]
    },
    {
      "cell_type": "markdown",
      "metadata": {
        "id": "PBLM99GJ8XCS"
      },
      "source": [
        "### **Objetivo general:**  ✔️\n",
        "El objetivo de generar esta serie de *Notebooks*, es ejemplificar y documentar las funcionalidades del lenguaje Python útiles en el desarrollo de las actividades de la Subdirección; además de exponer mediante un ejercicio práctico **real**, su aplicación en el tratamiento de datos.\n",
        "\n",
        "### **Objetivos específicos:** ✔️\n",
        "- Dominar las funcionalidades de Python fundamentales para tratar los datos involucrados en las actividades de la subdirección.\n",
        "- Codificar scripts empleados de forma cotidiana para su rápida consulta y utilización.\n",
        "- Generar un módulo de python que permita importar y utilizar las funciones comunes de forma local.\n",
        "- Estructurar y crear una *Notebook* que valide y audite los datos de cobertura (*csv*) de las estaciones (Áreas de servicio y Zonas de Cobertua) de TDT.\n",
        "- Documentar las funciones, programas y notebooks de los programas codificados que son utilizados en las activdades de la subdirección.\n",
        "\n",
        "**La *Notebook*  estructurada deberá ser capaz de :**\n",
        "\n",
        "1.   Validar la consistencia de los datos y registros de los archivos csv con respecto a un conjunto de datos base (INEGI)\n",
        "2.   Generar reportes de los archivos con inconsistencias en los datos\n",
        "3.   Calcular los valores de cobertura nacional de TDT para el informe de MCMO de forma general y por canal de programación de las estaciones operando\n",
        "4. Calcular los valores de cobertura de TDT por Entidad Federativa (Porcentaje de penetración) de las estaciones operando y autorizadas\n",
        "5.  Calular los valores de zona de sombra del servicio de TDT a nivel nacional y por Entidad federativa\n",
        "6. Generar archivos de reporte con los valores de los puntos **3 a 5**\n",
        "7. Generar información relevante con relación a otros indicadores disponibles (CONAPO, DENUE, educación, cartografía, etc...) \n",
        "8. Mostrar resultados e información de valor agregado a los reportes, relacionados con los datos del punto **7** con mapas y gráficas adecuadas\n",
        "9. Exportar datos compatibles con Qgis en diferentes dimensiones para generar reportes cartográficos con QGis.\n",
        "\n",
        "Esta lista no es limitativa, por lo que en el transcurso del programa, de encontrarse útil y alcanzable, podrán agregarse puntos sobre conexión con bases de datos SQLite para la interacción con Python, QGis y las coberturas estructuradas de una forma más óptima. \n",
        "\n",
        "--- \n",
        "\n",
        "\n",
        "#Índice 📑 \n",
        "\n",
        "\n",
        "\n",
        "\n"
      ]
    },
    {
      "cell_type": "markdown",
      "metadata": {
        "id": "QyHqAhbYEgIH"
      },
      "source": [
        "\n",
        "###**1.Introducción a Python: consideraciones importantes del lenguaje**\n",
        "###**2. ¿Qué es Jupyter Noteboooks y por qué lo usamos?**\n",
        "###**3. Repaso de teoría de conjuntos y tecnicidades en el tratamiento de datos**\n",
        "###**4. Funciones útiles para validación de datos**\n",
        "###**5. Abrir, leer y escribir archivos**\n",
        "###**6. Introducción a Pandas**\n",
        "###**7. Pandas 01**\n",
        "###**8. Principios de visualización de datos con Python**\n",
        "###**9. Pandas 02 y visualización de datos**\n",
        "---\n",
        "###**10. Codificación de notebook de análisis de datos de TDT**\n",
        "###**11. Codificación de módulo de Python con funciones cotidianas en validación**\n",
        "---\n",
        "### Extras: \n",
        "###**A) Introducción a GeoPandas**\n",
        "###**B) GeoPandas vs QGis**\n",
        "###**C) Integración de base de datos geoespacial de localidades en las coberturas de TDT**\n",
        "\n",
        "---\n",
        "### Convenientes: \n",
        "\n",
        "###**Controlar versiones y cambios del código con Git**\n",
        "\n"
      ]
    },
    {
      "cell_type": "markdown",
      "metadata": {
        "id": "eps5EDGEP_OJ"
      },
      "source": [
        "#Requisitos \n",
        "\n",
        "Los requisitos solicitados para seguir los ejercicios son:\n",
        "\n",
        "- Python 3 (3.7, 3.8 o 3.9)\n",
        "- Instalación de instalador de paquetes de python **pip** \n",
        "- Instalación de bibliotecas: \n",
        "  - Pandas ( ```pip install pandas```)\n",
        "  - Matplotlib (```pip install matplotlib```)\n",
        "  - Map clasify (```pip install mapclassify```)\n",
        "  - GeoPandas (```pip install geopandas```)\n",
        "  - Openpyxl (```pip install openpyxl```)\n",
        "\n",
        "\n",
        "*La instalación de GeoPandas puede generar conflictos en versiones inferiores a Python 3.6 debido a los módulos de Fiona.*\n"
      ]
    },
    {
      "cell_type": "code",
      "metadata": {
        "colab": {
          "base_uri": "https://localhost:8080/",
          "height": 38
        },
        "id": "r0772w2ipe6i",
        "outputId": "91249453-8ba6-471d-91d8-6f9084970711"
      },
      "source": [
        "%%html\n",
        "<marquee style='width: 50%; color: Green;'>¡Validar en la Subdirección de Validación es lo máximo! 😎</marquee>"
      ],
      "execution_count": null,
      "outputs": [
        {
          "output_type": "display_data",
          "data": {
            "text/html": [
              "<marquee style='width: 50%; color: Green;'>¡Validar en la Subdirección de Validación es lo máximo! 😎</marquee>"
            ],
            "text/plain": [
              "<IPython.core.display.HTML object>"
            ]
          },
          "metadata": {
            "tags": []
          }
        }
      ]
    }
  ]
}